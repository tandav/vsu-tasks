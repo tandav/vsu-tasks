{
 "cells": [
  {
   "cell_type": "markdown",
   "metadata": {
    "colab_type": "text",
    "id": "WHqii3r8deBB"
   },
   "source": [
    "# DFT Benchmark\n",
    "#### Task for Operational Calculus\n",
    "DFT of the 1D array x. \n",
    "- [Uses matrix-vector multiplication](https://en.wikipedia.org/wiki/DFT_matrix#Definition)\n",
    "- [dft matrix at DuckDuckGo](https://duckduckgo.com/?q=dft+matrix&bext=msl&atb=v71-4__&iax=images&ia=images)\n",
    "\n"
   ]
  },
  {
   "cell_type": "code",
   "execution_count": 4,
   "metadata": {
    "colab": {
     "autoexec": {
      "startup": false,
      "wait_interval": 0
     }
    },
    "colab_type": "code",
    "id": "8IU4BboQxb1K"
   },
   "outputs": [],
   "source": [
    "import numpy as np\n",
    "from time import time\n",
    "import matplotlib.pyplot as plt"
   ]
  },
  {
   "cell_type": "code",
   "execution_count": 5,
   "metadata": {
    "colab": {
     "autoexec": {
      "startup": false,
      "wait_interval": 0
     }
    },
    "colab_type": "code",
    "id": "mG7XEY_znrK2"
   },
   "outputs": [],
   "source": [
    "def my_dft(x):\n",
    "    N = len(x)\n",
    "    n = np.arange(N)\n",
    "    k = n.reshape((N, 1))\n",
    "    M = np.exp(-2j * np.pi * k * n / N)\n",
    "    return np.dot(M, x)"
   ]
  },
  {
   "cell_type": "code",
   "execution_count": 17,
   "metadata": {
    "colab": {
     "autoexec": {
      "startup": false,
      "wait_interval": 0
     },
     "base_uri": "https://localhost:8080/",
     "height": 34,
     "output_extras": [
      {
       "item_id": 1
      }
     ]
    },
    "colab_type": "code",
    "executionInfo": {
     "elapsed": 542,
     "status": "ok",
     "timestamp": 1522582598056,
     "user": {
      "displayName": "Alexander Rodionov",
      "photoUrl": "//lh4.googleusercontent.com/-mHhV5OliXHw/AAAAAAAAAAI/AAAAAAAAaAc/GQOau-itz68/s50-c-k-no/photo.jpg",
      "userId": "106847308707363817765"
     },
     "user_tz": -180
    },
    "id": "XwT1XTf9o1FK",
    "outputId": "7c52afcb-2d9e-495e-d812-7ff36b6b8789"
   },
   "outputs": [
    {
     "data": {
      "text/plain": [
       "True"
      ]
     },
     "execution_count": 17,
     "metadata": {},
     "output_type": "execute_result"
    }
   ],
   "source": [
    "# check if my dft computes dft correctly\n",
    "a = np.array([10, 2, 34, 5])\n",
    "np.allclose(my_dft(a), np.fft.fft(a))"
   ]
  },
  {
   "cell_type": "code",
   "execution_count": 11,
   "metadata": {
    "colab": {
     "autoexec": {
      "startup": false,
      "wait_interval": 0
     },
     "base_uri": "https://localhost:8080/",
     "height": 378,
     "output_extras": [
      {
       "item_id": 1
      },
      {
       "item_id": 2
      }
     ]
    },
    "colab_type": "code",
    "executionInfo": {
     "elapsed": 2009,
     "status": "ok",
     "timestamp": 1522581319474,
     "user": {
      "displayName": "Alexander Rodionov",
      "photoUrl": "//lh4.googleusercontent.com/-mHhV5OliXHw/AAAAAAAAAAI/AAAAAAAAaAc/GQOau-itz68/s50-c-k-no/photo.jpg",
      "userId": "106847308707363817765"
     },
     "user_tz": -180
    },
    "id": "G4JB-TyXm40C",
    "outputId": "85e44ac8-b6d9-41bb-e56d-6840930774f3"
   },
   "outputs": [
    {
     "name": "stdout",
     "output_type": "stream",
     "text": [
      " 9501 \t my_dft: 10.6523861885070851"
     ]
    },
    {
     "data": {
      "image/png": "[encoded data removed]",
      "text/plain": [
       "<matplotlib.figure.Figure at 0x10db7b978>"
      ]
     },
     "metadata": {},
     "output_type": "display_data"
    }
   ],
   "source": [
    "N = np.arange(1, 10000, 500)\n",
    "lib = []\n",
    "my  = []\n",
    "\n",
    "for n in N:\n",
    "    x = np.random.random(n)\n",
    "\n",
    "    t0 = time()\n",
    "    X = np.fft.fft(x)\n",
    "    lib.append(time() - t0)\n",
    "\n",
    "    t0 = time()\n",
    "    X = my_dft(x)\n",
    "    my.append(time() - t0)\n",
    "\n",
    "    print('\\r', n, '\\t', f'my_dft: {my[-1]}',end='')\n",
    "    \n",
    "\n",
    "plt.plot(N, lib, 'b', label='numpy')\n",
    "plt.plot(N, my , 'r', label='my_dft')\n",
    "plt.xlabel('N: length of array x')\n",
    "plt.ylabel('time of dft(x), seconds')\n",
    "plt.legend()\n",
    "plt.show()"
   ]
  },
  {
   "cell_type": "code",
   "execution_count": 15,
   "metadata": {
    "colab": {
     "autoexec": {
      "startup": false,
      "wait_interval": 0
     }
    },
    "colab_type": "code",
    "id": "KYQd17Tv69BT"
   },
   "outputs": [
    {
     "name": "stdout",
     "output_type": "stream",
     "text": [
      " 9991 \t numpy: 0.00318622589111328126"
     ]
    },
    {
     "data": {
      "image/png": "[encoded data removed]",
      "text/plain": [
       "<matplotlib.figure.Figure at 0x10e45fc88>"
      ]
     },
     "metadata": {},
     "output_type": "display_data"
    }
   ],
   "source": [
    "N = np.arange(1, 10000, 10)\n",
    "lib = []\n",
    "my  = []\n",
    "\n",
    "for n in N:\n",
    "    x = np.random.random(n)\n",
    "\n",
    "    t0 = time()\n",
    "    X = np.fft.fft(x)\n",
    "    lib.append(time() - t0)\n",
    "\n",
    "    print('\\r', n, '\\t', f'numpy: {lib[-1]}', end='')\n",
    "    \n",
    "\n",
    "plt.plot(N, lib, 'b', label='numpy')\n",
    "plt.xlabel('N: length of array x')\n",
    "plt.ylabel('time of dft(x), seconds')\n",
    "plt.legend()\n",
    "plt.show()"
   ]
  },
  {
   "cell_type": "code",
   "execution_count": null,
   "metadata": {},
   "outputs": [],
   "source": []
  }
 ],
 "metadata": {
  "accelerator": "GPU",
  "colab": {
   "collapsed_sections": [],
   "default_view": {},
   "name": "dft-benchmark.ipynb",
   "provenance": [],
   "version": "0.3.2",
   "views": {}
  },
  "kernelspec": {
   "display_name": "Python 3",
   "language": "python",
   "name": "python3"
  },
  "language_info": {
   "codemirror_mode": {
    "name": "ipython",
    "version": 3
   },
   "file_extension": ".py",
   "mimetype": "text/x-python",
   "name": "python",
   "nbconvert_exporter": "python",
   "pygments_lexer": "ipython3",
   "version": "3.6.4"
  }
 },
 "nbformat": 4,
 "nbformat_minor": 1
}
