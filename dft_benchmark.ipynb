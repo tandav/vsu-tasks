{
  "nbformat": 4,
  "nbformat_minor": 0,
  "metadata": {
    "colab": {
      "name": "dft-benchmark.ipynb",
      "version": "0.3.2",
      "views": {},
      "default_view": {},
      "provenance": [],
      "collapsed_sections": []
    },
    "kernelspec": {
      "name": "python3",
      "display_name": "Python 3"
    },
    "accelerator": "GPU"
  },
  "cells": [
    {
      "metadata": {
        "id": "WHqii3r8deBB",
        "colab_type": "text"
      },
      "cell_type": "markdown",
      "source": [
        "# DFT Benchmark\n",
        "#### Task for Operational Calulus"
      ]
    },
    {
      "metadata": {
        "id": "8IU4BboQxb1K",
        "colab_type": "code",
        "colab": {
          "autoexec": {
            "startup": false,
            "wait_interval": 0
          }
        }
      },
      "cell_type": "code",
      "source": [
        "import numpy as np\n",
        "from time import time\n",
        "import matplotlib.pyplot as plt"
      ],
      "execution_count": 0,
      "outputs": []
    },
    {
      "metadata": {
        "id": "pGbCy9uOxjtH",
        "colab_type": "code",
        "colab": {
          "autoexec": {
            "startup": false,
            "wait_interval": 0
          }
        }
      },
      "cell_type": "code",
      "source": [
        "def my_dft_v1(x):\n",
        "  N  = len(x)\n",
        "  X = np.zeros(N, dtype=complex)\n",
        "  \n",
        "  for k in range(N):\n",
        "    for n in range(N):\n",
        "      X[k] += x[n] * np.exp(-2j * np.pi * k * n / N)\n",
        "  return X"
      ],
      "execution_count": 0,
      "outputs": []
    },
    {
      "metadata": {
        "id": "0p4rD8OSj21G",
        "colab_type": "code",
        "colab": {
          "autoexec": {
            "startup": false,
            "wait_interval": 0
          }
        }
      },
      "cell_type": "code",
      "source": [
        "def my_dft_v2(x):\n",
        "  N = len(x)\n",
        "  n = np.arange(N)\n",
        "  X = np.zeros(N, dtype=complex)\n",
        "  \n",
        "  for k in range(N):\n",
        "    X[k] = np.sum(x * np.exp(-2j * np.pi * k * n / N))\n",
        "  return X"
      ],
      "execution_count": 0,
      "outputs": []
    },
    {
      "metadata": {
        "id": "9onvy2o3zfkZ",
        "colab_type": "code",
        "colab": {
          "autoexec": {
            "startup": false,
            "wait_interval": 0
          }
        }
      },
      "cell_type": "code",
      "source": [
        "def my_dft_v3(x):\n",
        "    '''DFT of the 1D array x. Using matrix-vector multiplication'''\n",
        "    N = len(x)\n",
        "    n = np.arange(N)\n",
        "    k = n.reshape((N, 1))\n",
        "    w = np.exp(-2j * np.pi / N)\n",
        "    W = np.power(w, n * k)\n",
        "    return np.dot(W, x)"
      ],
      "execution_count": 0,
      "outputs": []
    },
    {
      "metadata": {
        "id": "mG7XEY_znrK2",
        "colab_type": "code",
        "colab": {
          "autoexec": {
            "startup": false,
            "wait_interval": 0
          }
        }
      },
      "cell_type": "code",
      "source": [
        "def my_dft(x):\n",
        "    '''v4 DFT of the 1D array x. Using matrix-vector multiplication'''\n",
        "    N = len(x)\n",
        "    n = np.arange(N)\n",
        "    k = n.reshape((N, 1))\n",
        "    M = np.exp(-2j * np.pi * k * n / N)\n",
        "    return np.dot(M, x)"
      ],
      "execution_count": 0,
      "outputs": []
    },
    {
      "metadata": {
        "id": "XwT1XTf9o1FK",
        "colab_type": "code",
        "colab": {
          "autoexec": {
            "startup": false,
            "wait_interval": 0
          },
          "output_extras": [
            {
              "item_id": 1
            }
          ],
          "base_uri": "https://localhost:8080/",
          "height": 34
        },
        "outputId": "7c52afcb-2d9e-495e-d812-7ff36b6b8789",
        "executionInfo": {
          "status": "ok",
          "timestamp": 1522582598056,
          "user_tz": -180,
          "elapsed": 542,
          "user": {
            "displayName": "Alexander Rodionov",
            "photoUrl": "//lh4.googleusercontent.com/-mHhV5OliXHw/AAAAAAAAAAI/AAAAAAAAaAc/GQOau-itz68/s50-c-k-no/photo.jpg",
            "userId": "106847308707363817765"
          }
        }
      },
      "cell_type": "code",
      "source": [
        "a = np.array([10, 2, 34, 5])\n",
        "np.allclose(my_dft(a), np.fft.fft(a))"
      ],
      "execution_count": 101,
      "outputs": [
        {
          "output_type": "execute_result",
          "data": {
            "text/plain": [
              "True"
            ]
          },
          "metadata": {
            "tags": []
          },
          "execution_count": 101
        }
      ]
    },
    {
      "metadata": {
        "id": "G4JB-TyXm40C",
        "colab_type": "code",
        "colab": {
          "autoexec": {
            "startup": false,
            "wait_interval": 0
          },
          "output_extras": [
            {
              "item_id": 1
            },
            {
              "item_id": 2
            }
          ],
          "base_uri": "https://localhost:8080/",
          "height": 378
        },
        "outputId": "85e44ac8-b6d9-41bb-e56d-6840930774f3",
        "executionInfo": {
          "status": "ok",
          "timestamp": 1522581319474,
          "user_tz": -180,
          "elapsed": 2009,
          "user": {
            "displayName": "Alexander Rodionov",
            "photoUrl": "//lh4.googleusercontent.com/-mHhV5OliXHw/AAAAAAAAAAI/AAAAAAAAaAc/GQOau-itz68/s50-c-k-no/photo.jpg",
            "userId": "106847308707363817765"
          }
        }
      },
      "cell_type": "code",
      "source": [
        "N = np.arange(1, 1000, 20)\n",
        "lib = []\n",
        "my  = []\n",
        "\n",
        "for n in N:\n",
        "  x = np.random.random(n)\n",
        "\n",
        "  t0 = time()\n",
        "  X = np.fft.fft(x)\n",
        "  lib.append(time() - t0)\n",
        "  \n",
        "  t0 = time()\n",
        "  X = my_dft(x)\n",
        "  my.append(time() - t0)\n",
        "  \n",
        "#   if n % 20 == 0:\n",
        "  print('\\r', n, end='')\n",
        "    \n",
        "print(len(lib, ))\n",
        "\n",
        "plt.plot(N, lib, 'b')\n",
        "plt.plot(N, my, 'r')\n",
        "plt.xlabel('N: length of array x')\n",
        "plt.ylabel('time of dft(x), seconds')\n",
        "plt.show()"
      ],
      "execution_count": 86,
      "outputs": [
        {
          "output_type": "stream",
          "text": [
            "50\n"
          ],
          "name": "stdout"
        },
        {
          "output_type": "display_data",
          "data": {
            "image/png": "[encoded data removed]",
            "text/plain": [
              "<matplotlib.figure.Figure at 0x7f8a56c2fda0>"
            ]
          },
          "metadata": {
            "tags": []
          }
        }
      ]
    },
    {
      "metadata": {
        "id": "X-jkT7Rn5UZG",
        "colab_type": "code",
        "colab": {
          "autoexec": {
            "startup": false,
            "wait_interval": 0
          },
          "output_extras": [
            {
              "item_id": 11
            },
            {
              "item_id": 12
            }
          ],
          "base_uri": "https://localhost:8080/",
          "height": 378
        },
        "outputId": "f393737d-337e-407b-dc98-e3f746ed25a1",
        "executionInfo": {
          "status": "ok",
          "timestamp": 1522584056821,
          "user_tz": -180,
          "elapsed": 4005,
          "user": {
            "displayName": "Alexander Rodionov",
            "photoUrl": "//lh4.googleusercontent.com/-mHhV5OliXHw/AAAAAAAAAAI/AAAAAAAAaAc/GQOau-itz68/s50-c-k-no/photo.jpg",
            "userId": "106847308707363817765"
          }
        }
      },
      "cell_type": "code",
      "source": [
        "N = np.arange(1, 1000, 50)\n",
        "my_v1 = []\n",
        "my_v2 = []\n",
        "my_v3 = []\n",
        "my_v4 = []\n",
        "\n",
        "for n in N:\n",
        "  x = np.random.random(n)\n",
        "\n",
        "#   t0 = time()\n",
        "#   X = my_dft_v1(x)\n",
        "#   my_v1.append(time() - t0)\n",
        "  \n",
        "  t0 = time()\n",
        "  X = my_dft_v2(x)\n",
        "  my_v2.append(time() - t0)\n",
        "  \n",
        "  t0 = time()\n",
        "  X = my_dft_v3(x)\n",
        "  my_v3.append(time() - t0)\n",
        "  \n",
        "  t0 = time()\n",
        "  X = my_dft(x)\n",
        "  my_v4.append(time() - t0)\n",
        "  \n",
        "  \n",
        "  print('\\r', n, end='')\n",
        "    \n",
        "\n",
        "# plt.plot(N, my_v1, 'b', label='my_dft_v1')\n",
        "plt.plot(N, my_v2, 'g', label='my_dft_v2')\n",
        "plt.plot(N, my_v3, 'r', label='my_dft_v3')\n",
        "plt.plot(N, my_v4, 'k', label='my_dft_v4')\n",
        "\n",
        "\n",
        "plt.xlabel('N: length of array x')\n",
        "plt.ylabel('time of dft(x), seconds')\n",
        "plt.legend()\n",
        "plt.show()"
      ],
      "execution_count": 112,
      "outputs": [
        {
          "output_type": "stream",
          "text": [
            " 951"
          ],
          "name": "stdout"
        },
        {
          "output_type": "display_data",
          "data": {
            "image/png": "[encoded data removed]",
            "text/plain": [
              "<matplotlib.figure.Figure at 0x7f8a56f9e470>"
            ]
          },
          "metadata": {
            "tags": []
          }
        }
      ]
    },
    {
      "metadata": {
        "id": "KYQd17Tv69BT",
        "colab_type": "code",
        "colab": {
          "autoexec": {
            "startup": false,
            "wait_interval": 0
          }
        }
      },
      "cell_type": "code",
      "source": [
        ""
      ],
      "execution_count": 0,
      "outputs": []
    }
  ]
}