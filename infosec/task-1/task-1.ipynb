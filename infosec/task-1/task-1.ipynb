{
 "cells": [
  {
   "cell_type": "code",
   "execution_count": 2,
   "metadata": {
    "collapsed": true
   },
   "outputs": [],
   "source": [
    "%matplotlib inline\n",
    "import matplotlib.pyplot as plt\n",
    "import matplotlib\n",
    "import numpy as np\n",
    "import scipy\n",
    "from scipy import signal\n",
    "from PIL import Image\n",
    "from scipy.spatial.distance import hamming"
   ]
  },
  {
   "cell_type": "code",
   "execution_count": 3,
   "metadata": {
    "collapsed": true
   },
   "outputs": [],
   "source": [
    "def dct_2d(a):\n",
    "    '''2D DCT'''\n",
    "    return scipy.fftpack.dct( scipy.fftpack.dct( a, axis=0, norm='ortho' ), axis=1, norm='ortho' )\n",
    "\n",
    "def image2hash(I, dct_size=32):\n",
    "    I = I.resize((dct_size, dct_size))\n",
    "    I = I.convert(mode='L')\n",
    "    dct = dct_2d(I)\n",
    "    square = np.array(I)[:8, :8]\n",
    "    seq = square.flatten()\n",
    "    phash = [0 if x < np.mean(seq) else 1 for x in seq]\n",
    "    return np.array(phash)\n",
    "\n",
    "def insert_message(image, message, L=0.1, padding=2):\n",
    "    bs = image.shape[0] # image size\n",
    "    k = 0\n",
    "    for i in range(padding, bs - padding, 8):\n",
    "        for j in range(padding, bs - padding, 8):\n",
    "            Y = int(np.round(0.299*image[i][j][0] + 0.587*image[i][j][1] + 0.114*image[i][j][2]))\n",
    "            if message[k] == 0:\n",
    "                image[i][j][2] -= L * Y\n",
    "            elif message[k] == 1:\n",
    "                image[i][j][2] += L * Y\n",
    "            k += 1\n",
    "    return image\n",
    "\n",
    "def extract_message(image, sigma=2, padding=2):\n",
    "    bs = image.shape[0]\n",
    "    message = np.zeros(64, dtype='uint8')\n",
    "    k = 0\n",
    "    for y in range(padding, bs - padding, 8):\n",
    "        for x in range(padding, bs - padding, 8):\n",
    "            B_hat = 0\n",
    "            for s in range(1, sigma + 1):\n",
    "                B_hat += int(image[y + s][x][2]) + int(image[y-s][x][2]) + int(image[y][x+s][2]) + int(image[y][x-s][2])\n",
    "            B_hat /= 4*sigma\n",
    "            if image[y][x][2] > B_hat:\n",
    "                message[k] = 1\n",
    "            elif image[y][x][2] < B_hat:\n",
    "                message[k] = 0\n",
    "            k += 1\n",
    "    return message\n",
    "\n",
    "def photoshop(image, amount=4):\n",
    "    image_psotoshopped = np.copy(image)\n",
    "    \n",
    "    for i in range(amount):\n",
    "        image_psotoshopped[32][32+i] = [255, 255, 255]\n",
    "#         image_psotoshopped[33][32+i] = [255, 255, 255]\n",
    "#         image_psotoshopped[34][32+i] = [255, 255, 255]\n",
    "#         image_psotoshopped[35][32+i] = [255, 255, 255]\n",
    "\n",
    "\n",
    "#         image_psotoshopped[33][32+i][0] = 255\n",
    "#         image_psotoshopped[34][32+i][0] = 255\n",
    "#         image_psotoshopped[35][32+i][0] = 255\n",
    "    return image_psotoshopped"
   ]
  },
  {
   "cell_type": "code",
   "execution_count": 4,
   "metadata": {},
   "outputs": [],
   "source": [
    "img = Image.open('bridge.jpg')\n",
    "# img = Image.open('bridge-photoshoped.jpg')\n",
    "\n",
    "blocksize = 64\n",
    "pos_x, pos_y = 200, 350\n",
    "\n",
    "block_img = img.crop((pos_x, pos_y, pos_x + blocksize, pos_y + blocksize)) # you can crop w/ np slices :)\n",
    "block = np.array(block_img)"
   ]
  },
  {
   "cell_type": "code",
   "execution_count": 5,
   "metadata": {},
   "outputs": [
    {
     "name": "stdout",
     "output_type": "stream",
     "text": [
      "h1:\n",
      "[[0 0 0 0 0 1 1 1]\n",
      " [0 0 0 0 0 1 1 1]\n",
      " [0 0 0 0 0 1 1 1]\n",
      " [0 0 0 0 0 1 1 1]\n",
      " [0 0 0 0 0 1 1 1]\n",
      " [0 0 0 0 0 1 1 1]\n",
      " [0 0 0 0 0 1 1 1]\n",
      " [0 0 0 0 0 1 1 1]]\n"
     ]
    }
   ],
   "source": [
    "h1 = image2hash(block_img)\n",
    "print('h1:')\n",
    "print(h1.reshape(8,8))"
   ]
  },
  {
   "cell_type": "code",
   "execution_count": 6,
   "metadata": {},
   "outputs": [
    {
     "name": "stdout",
     "output_type": "stream",
     "text": [
      "\n",
      "extracted_hash:\n",
      "[[0 0 0 0 0 1 1 1]\n",
      " [0 0 0 0 0 1 1 1]\n",
      " [0 0 0 0 0 1 1 1]\n",
      " [0 0 0 0 0 1 1 1]\n",
      " [0 0 0 0 0 1 1 1]\n",
      " [0 0 0 0 0 1 1 1]\n",
      " [0 0 0 0 0 1 1 1]\n",
      " [0 0 0 0 0 1 1 1]]\n",
      "\n",
      "h1 == extracted_message:\n",
      "[[1 1 1 1 1 1 1 1]\n",
      " [1 1 1 1 1 1 1 1]\n",
      " [1 1 1 1 1 1 1 1]\n",
      " [1 1 1 1 1 1 1 1]\n",
      " [1 1 1 1 1 1 1 1]\n",
      " [1 1 1 1 1 1 1 1]\n",
      " [1 1 1 1 1 1 1 1]\n",
      " [1 1 1 1 1 1 1 1]]\n"
     ]
    }
   ],
   "source": [
    "block_with_h1 = insert_message(block, h1, L=0.3)\n",
    "extracted_hash = extract_message(block_with_h1)\n",
    "print('\\nextracted_hash:')\n",
    "print(extracted_hash.reshape(8,8))\n",
    "print('\\nh1 == extracted_message:')\n",
    "print((h1 == extracted_hash).reshape(8,8)*1)"
   ]
  },
  {
   "cell_type": "code",
   "execution_count": 7,
   "metadata": {},
   "outputs": [
    {
     "name": "stdout",
     "output_type": "stream",
     "text": [
      "\n",
      "hash extracted from photoshopped image\n",
      "[[0 0 0 0 0 1 1 1]\n",
      " [0 0 0 0 0 1 1 1]\n",
      " [0 0 0 0 0 1 1 1]\n",
      " [0 0 0 0 0 1 1 1]\n",
      " [0 0 0 0 0 0 1 1]\n",
      " [0 0 0 0 0 1 1 1]\n",
      " [0 0 0 0 0 1 1 1]\n",
      " [0 0 0 0 0 1 1 1]]\n",
      "\n",
      "h1 == h2:\n",
      "[[1 1 1 1 1 1 1 1]\n",
      " [1 1 1 1 1 1 1 1]\n",
      " [1 1 1 1 1 1 1 1]\n",
      " [1 1 1 1 1 1 1 1]\n",
      " [1 1 1 1 1 0 1 1]\n",
      " [1 1 1 1 1 1 1 1]\n",
      " [1 1 1 1 1 1 1 1]\n",
      " [1 1 1 1 1 1 1 1]]\n"
     ]
    }
   ],
   "source": [
    "block_with_h1_photoshopped = photoshop(block_with_h1, amount=13)\n",
    "h2 = extract_message(block_with_h1_photoshopped)\n",
    "# h2 = extract_message(block_1_arr)\n",
    "print('\\nhash extracted from photoshopped image')\n",
    "print(h2.reshape(8,8))\n",
    "print('\\nh1 == h2:')\n",
    "print((h1 == h2).reshape(8,8)*1)"
   ]
  },
  {
   "cell_type": "code",
   "execution_count": 8,
   "metadata": {},
   "outputs": [
    {
     "name": "stdout",
     "output_type": "stream",
     "text": [
      "\n",
      "hamming distance: 0.015625\n"
     ]
    }
   ],
   "source": [
    "print('\\nhamming distance:', hamming(h1, h2))"
   ]
  },
  {
   "cell_type": "code",
   "execution_count": 9,
   "metadata": {},
   "outputs": [
    {
     "data": {
      "text/plain": [
       "<matplotlib.text.Text at 0x10f4e1588>"
      ]
     },
     "execution_count": 9,
     "metadata": {},
     "output_type": "execute_result"
    },
    {
     "data": {
      "image/png": "[encoded data removed]",
      "text/plain": [
       "<matplotlib.figure.Figure at 0x10f282160>"
      ]
     },
     "metadata": {},
     "output_type": "display_data"
    }
   ],
   "source": [
    "plt.figure(1)\n",
    "plt.subplot(121)\n",
    "plt.imshow(block)\n",
    "plt.title('Original image')\n",
    "plt.subplot(122)\n",
    "plt.imshow(block_with_h1_photoshopped)\n",
    "plt.title('Photoshopped image')"
   ]
  },
  {
   "cell_type": "code",
   "execution_count": null,
   "metadata": {
    "collapsed": true
   },
   "outputs": [],
   "source": []
  }
 ],
 "metadata": {
  "kernelspec": {
   "display_name": "Python 3",
   "language": "python",
   "name": "python3"
  },
  "language_info": {
   "codemirror_mode": {
    "name": "ipython",
    "version": 3
   },
   "file_extension": ".py",
   "mimetype": "text/x-python",
   "name": "python",
   "nbconvert_exporter": "python",
   "pygments_lexer": "ipython3",
   "version": "3.6.3"
  }
 },
 "nbformat": 4,
 "nbformat_minor": 2
}
